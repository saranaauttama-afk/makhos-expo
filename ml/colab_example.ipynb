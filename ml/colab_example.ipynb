{
 "cells": [
  {
   "cell_type": "markdown",
   "metadata": {},
   "source": [
    "# Makhos (Thai Checkers) Neural Network Training\n",
    "\n",
    "This notebook demonstrates the complete ML pipeline:\n",
    "1. Generate training data from AI vs AI self-play\n",
    "2. Train a neural network\n",
    "3. Save and export the model"
   ]
  },
  {
   "cell_type": "markdown",
   "metadata": {},
   "source": [
    "## Setup"
   ]
  },
  {
   "cell_type": "code",
   "execution_count": null,
   "metadata": {},
   "outputs": [],
   "source": [
    "# Install dependencies\n",
    "!pip install torch numpy"
   ]
  },
  {
   "cell_type": "code",
   "execution_count": null,
   "metadata": {},
   "outputs": [],
   "source": [
    "# Clone repository (if not already cloned)\n",
    "# !git clone https://github.com/YOUR_USERNAME/makhos-expo.git\n",
    "# %cd makhos-expo"
   ]
  },
  {
   "cell_type": "code",
   "execution_count": null,
   "metadata": {},
   "outputs": [],
   "source": [
    "# Install Node.js and tsx (for data generation)\n",
    "# This requires a Node.js environment\n",
    "# For Colab, you can install Node.js with:\n",
    "!apt-get update && apt-get install -y nodejs npm\n",
    "!npm install -g tsx"
   ]
  },
  {
   "cell_type": "markdown",
   "metadata": {},
   "source": [
    "## Step 1: Generate Training Data"
   ]
  },
  {
   "cell_type": "code",
   "execution_count": null,
   "metadata": {},
   "outputs": [],
   "source": "# Method 1: Direct function call (Recommended for Colab)\nimport sys\nsys.path.insert(0, '.')\nfrom gen_data import generate_data\n\n# Quick test: 100 games (5-10 minutes)\ngenerate_data(total_games=100, batch_size=100, time_per_move=500)\n\n# For full dataset, use:\n# generate_data(total_games=5000, batch_size=1000, time_per_move=1000)\n\n# Method 2: Command line (Alternative)\n# !python gen_data.py --total_games 100 --batch_size 100 --time_per_move 500"
  },
  {
   "cell_type": "code",
   "execution_count": null,
   "metadata": {},
   "outputs": [],
   "source": "# Load and inspect the generated data\nimport numpy as np\n\ndata = np.load('training_data.npz')\nstates = data['states']\npolicy_targets = data['policy_targets']\nlegal_masks = data['legal_masks']\nvalues = data['values']\n\nprint(f\"States shape: {states.shape}\")\nprint(f\"Policy targets shape: {policy_targets.shape}\")\nprint(f\"Legal masks shape: {legal_masks.shape}\")\nprint(f\"Values shape: {values.shape}\")\nprint(f\"\\nValue distribution:\")\nprint(f\"  P1 wins (+1): {(values == 1).sum()}\")\nprint(f\"  Draws (0): {(values == 0).sum()}\")\nprint(f\"  P2 wins (-1): {(values == -1).sum()}\")\nprint(f\"\\nAvg legal moves: {legal_masks.sum(axis=(1,2)).mean():.1f}\")"
  },
  {
   "cell_type": "markdown",
   "metadata": {},
   "source": [
    "## Step 2: Train Neural Network"
   ]
  },
  {
   "cell_type": "code",
   "execution_count": null,
   "metadata": {},
   "outputs": [],
   "source": "# Method 1: Direct function call (Recommended for Colab)\nfrom train import train_model\n\ntrain_model(\n    data_path=\"training_data.npz\",\n    model_type=\"simple\",\n    hidden_size=512,\n    epochs=50,\n    batch_size=32,\n    lr=0.001,\n    output_dir=\"checkpoints\"\n)\n\n# Method 2: Command line (Alternative)\n# !python train.py --data training_data.npz --model_type simple --epochs 50"
  },
  {
   "cell_type": "code",
   "execution_count": null,
   "metadata": {},
   "outputs": [],
   "source": "# Alternative: Train with ResNet model (slower, potentially better)\n# from train import train_model\n# \n# train_model(\n#     data_path=\"training_data.npz\",\n#     model_type=\"resnet\",\n#     num_channels=128,\n#     num_res_blocks=6,\n#     epochs=50,\n#     batch_size=32,\n#     lr=0.001,\n#     output_dir=\"checkpoints\"\n# )"
  },
  {
   "cell_type": "markdown",
   "metadata": {},
   "source": [
    "## Step 3: Test the Model"
   ]
  },
  {
   "cell_type": "code",
   "execution_count": null,
   "metadata": {},
   "outputs": [],
   "source": [
    "import torch\n",
    "from model import create_model\n",
    "\n",
    "# Load the trained model\n",
    "device = torch.device(\"cuda\" if torch.cuda.is_available() else \"cpu\")\n",
    "model = create_model(\"simple\", hidden_size=512)\n",
    "checkpoint = torch.load('checkpoints/best_model.pt', map_location=device)\n",
    "model.load_state_dict(checkpoint['model_state_dict'])\n",
    "model.to(device)\n",
    "model.eval()\n",
    "\n",
    "print(\"Model loaded successfully!\")"
   ]
  },
  {
   "cell_type": "code",
   "execution_count": null,
   "metadata": {},
   "outputs": [],
   "source": "# Test on a random position from the dataset\nimport numpy as np\nimport torch\n\n# Get a random example\nidx = np.random.randint(len(states))\nstate = states[idx]\ntrue_policy = policy_targets[idx]\nlegal_mask = legal_masks[idx]\ntrue_value = values[idx]\n\n# Make prediction\nstate_tensor = torch.from_numpy(state).unsqueeze(0).float().to(device)\nwith torch.no_grad():\n    policy_logits, value_pred = model(state_tensor)\n    \n    # Apply legal move mask\n    policy_logits_flat = policy_logits.view(-1)\n    legal_mask_flat = torch.from_numpy(legal_mask.reshape(-1)).to(device)\n    policy_logits_masked = torch.where(legal_mask_flat > 0, policy_logits_flat, torch.tensor(-1e9).to(device))\n    \n    policy_probs = torch.softmax(policy_logits_masked, dim=0).cpu().numpy()\n    value_pred = value_pred.item()\n\n# Get top-5 predicted moves (only legal moves)\nlegal_indices = np.where(legal_mask.reshape(-1) > 0)[0]\nlegal_probs = policy_probs[legal_indices]\ntop_5_legal = legal_indices[np.argsort(legal_probs)[-5:][::-1]]\n\nprint(\"Top 5 predicted moves (from, to):\")\nfor i, move_idx in enumerate(top_5_legal, 1):\n    from_sq = move_idx // 32\n    to_sq = move_idx % 32\n    prob = policy_probs[move_idx]\n    print(f\"  {i}. ({from_sq} -> {to_sq}) p={prob:.4f}\")\n\n# Find true move\ntrue_move_idx = np.argmax(true_policy.reshape(-1))\ntrue_from = true_move_idx // 32\ntrue_to = true_move_idx % 32\n\nprint(f\"\\nTrue move: ({true_from} -> {true_to})\")\nprint(f\"\\nPredicted value: {value_pred:.3f}\")\nprint(f\"True value: {true_value:.0f}\")"
  },
  {
   "cell_type": "markdown",
   "metadata": {},
   "source": [
    "## Step 4: Download Model"
   ]
  },
  {
   "cell_type": "code",
   "execution_count": null,
   "metadata": {},
   "outputs": [],
   "source": [
    "# Download the trained model files\n",
    "from google.colab import files\n",
    "\n",
    "files.download('checkpoints/best_model.pt')\n",
    "files.download('checkpoints/final_model.pt')\n",
    "files.download('checkpoints/final_model_scripted.pt')"
   ]
  },
  {
   "cell_type": "markdown",
   "metadata": {},
   "source": [
    "## Next Steps\n",
    "\n",
    "1. **Generate more data**: Use `--num_games 1000` or more for better results\n",
    "2. **Tune hyperparameters**: Experiment with different learning rates, model sizes, etc.\n",
    "3. **Implement MCTS**: Combine the neural network with Monte Carlo Tree Search\n",
    "4. **Self-play training**: Use the trained model to generate new training data (AlphaZero-style)"
   ]
  }
 ],
 "metadata": {
  "accelerator": "GPU",
  "colab": {
   "gpuType": "T4",
   "provenance": []
  },
  "kernelspec": {
   "display_name": "Python 3",
   "language": "python",
   "name": "python3"
  },
  "language_info": {
   "codemirror_mode": {
    "name": "ipython",
    "version": 3
   },
   "file_extension": ".py",
   "mimetype": "text/x-python",
   "name": "python",
   "nbconvert_exporter": "python",
   "pygments_lexer": "ipython3",
   "version": "3.10.0"
  }
 },
 "nbformat": 4,
 "nbformat_minor": 0
}